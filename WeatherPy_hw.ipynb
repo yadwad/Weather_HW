{
 "cells": [
  {
   "cell_type": "markdown",
   "metadata": {},
   "source": [
    "# WeatherPy\n",
    "----\n",
    "\n",
    "### Analysis\n",
    "* As expected, the weather becomes significantly warmer as one approaches the equator (0 Deg. Latitude). More interestingly, however, is the fact that the southern hemisphere tends to be warmer this time of year than the northern hemisphere. This may be due to the tilt of the earth.\n",
    "* There is no strong relationship between latitude and cloudiness. However, it is interesting to see that a strong band of cities sits at 0, 80, and 100% cloudiness.\n",
    "* There is no strong relationship between latitude and wind speed. However, in northern hemispheres there is a flurry of cities with over 20 mph of wind.\n",
    "\n",
    "---\n",
    "\n",
    "#### Note\n",
    "* Instructions have been included for each segment. You do not have to follow them exactly, but they are included to help you think through the steps."
   ]
  },
  {
   "cell_type": "code",
   "execution_count": 1,
   "metadata": {
    "scrolled": true
   },
   "outputs": [],
   "source": [
    "# Dependencies and Setup\n",
    "import matplotlib.pyplot as plt\n",
    "import pandas as pd\n",
    "import numpy as np\n",
    "import requests\n",
    "import seaborn as sns\n",
    "import time\n",
    "\n",
    "# Import API key\n",
    "from api_keys import api_key\n",
    "\n",
    "# Incorporated citipy to determine city based on latitude and longitude\n",
    "from citipy import citipy\n",
    "\n",
    "# Output File (CSV)\n",
    "output_data_file = \"output_data/cities.csv\"\n",
    "\n",
    "# Range of latitudes and longitudes\n",
    "lat_range = (-90, 90)\n",
    "lng_range = (-180, 180)"
   ]
  },
  {
   "cell_type": "markdown",
   "metadata": {},
   "source": [
    "## Generate Cities List"
   ]
  },
  {
   "cell_type": "code",
   "execution_count": null,
   "metadata": {},
   "outputs": [
    {
     "data": {
      "text/plain": [
       "605"
      ]
     },
     "execution_count": 2,
     "metadata": {},
     "output_type": "execute_result"
    }
   ],
   "source": [
    "lat_lngs = []\n",
    "cities = []\n",
    "\n",
    "\n",
    "lats = np.random.uniform(low=-90.000, high=90.000, size=1500)\n",
    "lngs = np.random.uniform(low=-180.000, high=180.000, size=1500)\n",
    "lat_lngs = zip(lats, lngs)\n",
    "\n",
    "for lat_lng in lat_lngs:\n",
    "    city = citipy.nearest_city(lat_lng[0], lat_lng[1]).city_name\n",
    "    \n",
    "    \n",
    "    if city not in cities:\n",
    "        cities.append(city)\n",
    "\n",
    "len(cities)"
   ]
  },
  {
   "cell_type": "markdown",
   "metadata": {},
   "source": [
    "### Perform API Calls\n",
    "* Perform a weather check on each city using a series of successive API calls.\n",
    "* Include a print log of each city as it'sbeing processed (with the city number and city name).\n"
   ]
  },
  {
   "cell_type": "code",
   "execution_count": null,
   "metadata": {},
   "outputs": [
    {
     "name": "stdout",
     "output_type": "stream",
     "text": [
      "Beginning Data Retrieval \n",
      " ........................\n",
      "Processing Record 1 of Set 0 | hithadhoo\n",
      "name 'owm' is not defined\n",
      "Processing Record 2 of Set 0 | illoqqortoormiut\n",
      "name 'owm' is not defined\n",
      "Processing Record 3 of Set 0 | acapulco\n",
      "name 'owm' is not defined\n",
      "Processing Record 4 of Set 0 | norman wells\n",
      "name 'owm' is not defined\n",
      "Processing Record 5 of Set 0 | taolanaro\n",
      "name 'owm' is not defined\n",
      "Processing Record 6 of Set 0 | barentsburg\n",
      "name 'owm' is not defined\n",
      "Processing Record 7 of Set 0 | vaini\n",
      "name 'owm' is not defined\n",
      "Processing Record 8 of Set 0 | thompson\n",
      "name 'owm' is not defined\n",
      "Processing Record 9 of Set 0 | sao joao da barra\n",
      "name 'owm' is not defined\n",
      "Processing Record 10 of Set 0 | rikitea\n",
      "name 'owm' is not defined\n",
      "Processing Record 11 of Set 0 | russell\n",
      "name 'owm' is not defined\n",
      "Processing Record 12 of Set 0 | tasiilaq\n",
      "name 'owm' is not defined\n",
      "Processing Record 13 of Set 0 | bredasdorp\n",
      "name 'owm' is not defined\n",
      "Processing Record 14 of Set 0 | guerrero negro\n",
      "name 'owm' is not defined\n",
      "Processing Record 15 of Set 0 | igarka\n",
      "name 'owm' is not defined\n",
      "Processing Record 16 of Set 0 | goderich\n",
      "name 'owm' is not defined\n",
      "Processing Record 17 of Set 0 | lompoc\n",
      "name 'owm' is not defined\n",
      "Processing Record 18 of Set 0 | darnah\n",
      "name 'owm' is not defined\n",
      "Processing Record 19 of Set 0 | avarua\n",
      "name 'owm' is not defined\n",
      "Processing Record 20 of Set 0 | arlit\n",
      "name 'owm' is not defined\n",
      "Processing Record 21 of Set 0 | tsihombe\n",
      "name 'owm' is not defined\n",
      "Processing Record 22 of Set 0 | khatanga\n",
      "name 'owm' is not defined\n",
      "Processing Record 23 of Set 0 | carballo\n",
      "name 'owm' is not defined\n",
      "Processing Record 24 of Set 0 | hobart\n",
      "name 'owm' is not defined\n",
      "Processing Record 25 of Set 0 | chokurdakh\n",
      "name 'owm' is not defined\n",
      "Processing Record 26 of Set 0 | punta arenas\n",
      "name 'owm' is not defined\n",
      "Processing Record 27 of Set 0 | cidreira\n",
      "name 'owm' is not defined\n",
      "Processing Record 28 of Set 0 | bonavista\n",
      "name 'owm' is not defined\n",
      "Processing Record 29 of Set 0 | luderitz\n",
      "name 'owm' is not defined\n",
      "Processing Record 30 of Set 0 | port lincoln\n",
      "name 'owm' is not defined\n",
      "Processing Record 31 of Set 0 | cherskiy\n",
      "name 'owm' is not defined\n",
      "Processing Record 32 of Set 0 | anadyr\n",
      "name 'owm' is not defined\n",
      "Processing Record 33 of Set 0 | suntar\n",
      "name 'owm' is not defined\n",
      "Processing Record 34 of Set 0 | tuktoyaktuk\n",
      "name 'owm' is not defined\n",
      "Processing Record 35 of Set 0 | busselton\n",
      "name 'owm' is not defined\n",
      "Processing Record 36 of Set 0 | puerto ayora\n",
      "name 'owm' is not defined\n",
      "Processing Record 37 of Set 0 | nanortalik\n",
      "name 'owm' is not defined\n",
      "Processing Record 38 of Set 0 | dingle\n",
      "name 'owm' is not defined\n",
      "Processing Record 39 of Set 0 | evanston\n",
      "name 'owm' is not defined\n",
      "Processing Record 40 of Set 0 | zyryanka\n",
      "name 'owm' is not defined\n",
      "Processing Record 41 of Set 0 | sitka\n",
      "name 'owm' is not defined\n",
      "Processing Record 42 of Set 0 | albany\n",
      "name 'owm' is not defined\n",
      "Processing Record 43 of Set 0 | atuona\n",
      "name 'owm' is not defined\n",
      "Processing Record 44 of Set 0 | marienburg\n",
      "name 'owm' is not defined\n",
      "Processing Record 45 of Set 0 | loandjili\n",
      "name 'owm' is not defined\n",
      "Processing Record 46 of Set 0 | nizhneyansk\n",
      "name 'owm' is not defined\n",
      "Processing Record 47 of Set 0 | souillac\n",
      "name 'owm' is not defined\n",
      "Processing Record 48 of Set 0 | ushuaia\n",
      "name 'owm' is not defined\n",
      "Processing Record 49 of Set 0 | port alfred\n",
      "name 'owm' is not defined\n",
      "Processing Record 50 of Set 0 | mangrol\n",
      "name 'owm' is not defined\n",
      "Processing Record 1 of Set 1 | susanville\n",
      "name 'owm' is not defined\n",
      "Processing Record 2 of Set 1 | bethel\n",
      "name 'owm' is not defined\n",
      "Processing Record 3 of Set 1 | coos bay\n",
      "name 'owm' is not defined\n",
      "Processing Record 4 of Set 1 | airai\n",
      "name 'owm' is not defined\n",
      "Processing Record 5 of Set 1 | saint george\n",
      "name 'owm' is not defined\n",
      "Processing Record 6 of Set 1 | aketi\n",
      "name 'owm' is not defined\n",
      "Processing Record 7 of Set 1 | barrow\n",
      "name 'owm' is not defined\n",
      "Processing Record 8 of Set 1 | korla\n",
      "name 'owm' is not defined\n",
      "Processing Record 9 of Set 1 | new norfolk\n",
      "name 'owm' is not defined\n",
      "Processing Record 10 of Set 1 | faanui\n",
      "name 'owm' is not defined\n",
      "Processing Record 11 of Set 1 | jamestown\n",
      "name 'owm' is not defined\n",
      "Processing Record 12 of Set 1 | longyearbyen\n",
      "name 'owm' is not defined\n",
      "Processing Record 13 of Set 1 | komsomolskiy\n",
      "name 'owm' is not defined\n",
      "Processing Record 14 of Set 1 | sobolevo\n",
      "name 'owm' is not defined\n",
      "Processing Record 15 of Set 1 | hofn\n",
      "name 'owm' is not defined\n",
      "Processing Record 16 of Set 1 | dawlatabad\n",
      "name 'owm' is not defined\n",
      "Processing Record 17 of Set 1 | ponta do sol\n",
      "name 'owm' is not defined\n",
      "Processing Record 18 of Set 1 | parintins\n",
      "name 'owm' is not defined\n",
      "Processing Record 19 of Set 1 | west bay\n",
      "name 'owm' is not defined\n",
      "Processing Record 20 of Set 1 | east london\n",
      "name 'owm' is not defined\n",
      "Processing Record 21 of Set 1 | atar\n",
      "name 'owm' is not defined\n",
      "Processing Record 22 of Set 1 | boa vista\n",
      "name 'owm' is not defined\n",
      "Processing Record 23 of Set 1 | frontera\n",
      "name 'owm' is not defined\n",
      "Processing Record 24 of Set 1 | fortuna\n",
      "name 'owm' is not defined\n",
      "Processing Record 25 of Set 1 | fort walton beach\n",
      "name 'owm' is not defined\n",
      "Processing Record 26 of Set 1 | chazuta\n",
      "name 'owm' is not defined\n",
      "Processing Record 27 of Set 1 | hermanus\n",
      "name 'owm' is not defined\n",
      "Processing Record 28 of Set 1 | liwale\n",
      "name 'owm' is not defined\n",
      "Processing Record 29 of Set 1 | qaanaaq\n",
      "name 'owm' is not defined\n",
      "Processing Record 30 of Set 1 | saint-philippe\n",
      "name 'owm' is not defined\n",
      "Processing Record 31 of Set 1 | svetlogorsk\n",
      "name 'owm' is not defined\n",
      "Processing Record 32 of Set 1 | namatanai\n",
      "name 'owm' is not defined\n",
      "Processing Record 33 of Set 1 | salalah\n",
      "name 'owm' is not defined\n",
      "Processing Record 34 of Set 1 | bambous virieux\n",
      "name 'owm' is not defined\n",
      "Processing Record 35 of Set 1 | college\n",
      "name 'owm' is not defined\n",
      "Processing Record 36 of Set 1 | edeia\n",
      "name 'owm' is not defined\n",
      "Processing Record 37 of Set 1 | lac du bonnet\n",
      "name 'owm' is not defined\n",
      "Processing Record 38 of Set 1 | kapaa\n",
      "name 'owm' is not defined\n",
      "Processing Record 39 of Set 1 | hilo\n",
      "name 'owm' is not defined\n",
      "Processing Record 40 of Set 1 | bingen\n",
      "name 'owm' is not defined\n",
      "Processing Record 41 of Set 1 | pevek\n",
      "name 'owm' is not defined\n",
      "Processing Record 42 of Set 1 | vila franca do campo\n",
      "name 'owm' is not defined\n",
      "Processing Record 43 of Set 1 | novikovo\n",
      "name 'owm' is not defined\n",
      "Processing Record 44 of Set 1 | arraial do cabo\n",
      "name 'owm' is not defined\n",
      "Processing Record 45 of Set 1 | amderma\n",
      "name 'owm' is not defined\n",
      "Processing Record 46 of Set 1 | ribeira grande\n",
      "name 'owm' is not defined\n",
      "Processing Record 47 of Set 1 | castro\n",
      "name 'owm' is not defined\n",
      "Processing Record 48 of Set 1 | cody\n",
      "name 'owm' is not defined\n",
      "Processing Record 49 of Set 1 | poum\n",
      "name 'owm' is not defined\n",
      "Processing Record 50 of Set 1 | ngukurr\n",
      "name 'owm' is not defined\n"
     ]
    }
   ],
   "source": [
    "count = 1 \n",
    "err = 0\n",
    "sets = 0\n",
    "index = 0\n",
    "t0 =time.time()\n",
    "print(f'Beginning Data Retrieval \\n ........................')\n",
    "for city in cities:\n",
    "    try:\n",
    "        city1 = city.replace(\" \", \"%20\") \n",
    "        print(f'Processing Record {count} of Set {sets} | {city}' )\n",
    "        city_stats = owm.get_current(city, **settings)\n",
    "        WeatherPy_df.set_value(index, \"City\", city_stats[\"name\"])\n",
    "        WeatherPy_df.set_value(index, \"Cloudiness\", city_stats(\"clouds.all\"))\n",
    "        WeatherPy_df.set_value(index, \"Country\", city_stats(\"sys.country\"))\n",
    "        WeatherPy_df.set_value(index, \"Date\", city_stats(\"dt\"))\n",
    "        WeatherPy_df.set_value(index, \"Max Temp\", city_stats(\"main.temp_max\"))\n",
    "        WeatherPy_df.set_value(index, \"Wind Speed\", city_stats(\"wind.speed\"))\n",
    "        WeatherPy_df.set_value(index, \"Lat\", city_stats(\"coord.lat\"))\n",
    "        WeatherPy_df.set_value(index, \"Lng\", city_stats(\"coord.lon\"))\n",
    "        WeatherPy_df.set_value(index, \"Humidity\", city_stats(\"main.humidity\"))\n",
    "        index = index +1 \n",
    "    except Exception as e:\n",
    "        print(e)\n",
    "        err= err+1\n",
    "    count = count+1\n",
    "    if count == 51: \n",
    "        t1=time.time()\n",
    "        count = 1 \n",
    "        sets = sets+1\n",
    "        time.sleep(60-(t1-t0))\n",
    "        t0=time.time()\n",
    "\n",
    "print(\"loop complete\")\n",
    "print(f'Missing data for cities')"
   ]
  },
  {
   "cell_type": "markdown",
   "metadata": {},
   "source": [
    "### Convert Raw Data to DataFrame\n",
    "* Export the city data into a .csv.\n",
    "* Display the DataFrame"
   ]
  },
  {
   "cell_type": "code",
   "execution_count": 32,
   "metadata": {},
   "outputs": [
    {
     "data": {
      "text/html": [
       "<div>\n",
       "<style scoped>\n",
       "    .dataframe tbody tr th:only-of-type {\n",
       "        vertical-align: middle;\n",
       "    }\n",
       "\n",
       "    .dataframe tbody tr th {\n",
       "        vertical-align: top;\n",
       "    }\n",
       "\n",
       "    .dataframe thead th {\n",
       "        text-align: right;\n",
       "    }\n",
       "</style>\n",
       "<table border=\"1\" class=\"dataframe\">\n",
       "  <thead>\n",
       "    <tr style=\"text-align: right;\">\n",
       "      <th></th>\n",
       "      <th>City</th>\n",
       "      <th>Cloudiness</th>\n",
       "      <th>Country</th>\n",
       "      <th>Date</th>\n",
       "      <th>Max Temp</th>\n",
       "      <th>Wind Speed</th>\n",
       "      <th>Lat</th>\n",
       "      <th>Lng</th>\n",
       "      <th>Humidity</th>\n",
       "    </tr>\n",
       "  </thead>\n",
       "  <tbody>\n",
       "  </tbody>\n",
       "</table>\n",
       "</div>"
      ],
      "text/plain": [
       "Empty DataFrame\n",
       "Columns: [City, Cloudiness, Country, Date, Max Temp, Wind Speed, Lat, Lng, Humidity]\n",
       "Index: []"
      ]
     },
     "execution_count": 32,
     "metadata": {},
     "output_type": "execute_result"
    }
   ],
   "source": [
    "# save to csv file\n",
    "WeatherPy_df.to_csv(\"WeatherPy.csv\", encoding='utf-8', index=False)\n",
    "\n",
    "# Display the city weather data frame\n",
    "WeatherPy_df.head(10)"
   ]
  },
  {
   "cell_type": "code",
   "execution_count": null,
   "metadata": {},
   "outputs": [],
   "source": []
  },
  {
   "cell_type": "markdown",
   "metadata": {},
   "source": [
    "### Plotting the Data\n",
    "* Use proper labeling of the plots using plot titles (including date of analysis) and axes labels.\n",
    "* Save the plotted figures as .pngs."
   ]
  },
  {
   "cell_type": "markdown",
   "metadata": {},
   "source": [
    "#### Latitude vs. Temperature Plot"
   ]
  },
  {
   "cell_type": "code",
   "execution_count": null,
   "metadata": {},
   "outputs": [],
   "source": [
    "plt.figure(figsize=(8,6))\n",
    "sns.set()\n",
    "plt.scatter(WeatherPy_df[\"Lat\"], WeatherPy_df[\"Max Temp\"], color='r', alpha=0.5)\n",
    "plt.xlabel('Latitude')\n",
    "plt.ylabel('Maximum Temperature (F)')\n",
    "plt.title(f'City Latitude by Maximum Temperature ({datetime.now().date()})')\n",
    "plt.savefig(\"LatbyTemp.png\")\n",
    "plt.show()"
   ]
  },
  {
   "cell_type": "markdown",
   "metadata": {},
   "source": [
    "#### Latitude vs. Humidity Plot"
   ]
  },
  {
   "cell_type": "code",
   "execution_count": null,
   "metadata": {},
   "outputs": [],
   "source": [
    "plt.figure(figsize=(8,6))\n",
    "sns.set()\n",
    "plt.scatter(WeatherPy_df[\"Lat\"], WeatherPy_df[\"Humidity\"], color='blue', alpha=0.5)\n",
    "plt.ylim(10,120)\n",
    "plt.xlabel('Latitude')\n",
    "plt.ylabel('Humidity (%)')\n",
    "plt.title(f'City Latitude by Humidity ({datetime.now().date()})')\n",
    "plt.savefig(\"LatbyHumidity.png\")\n",
    "plt.show()"
   ]
  },
  {
   "cell_type": "markdown",
   "metadata": {},
   "source": [
    "#### Latitude vs. Cloudiness Plot"
   ]
  },
  {
   "cell_type": "code",
   "execution_count": null,
   "metadata": {},
   "outputs": [],
   "source": [
    "plt.figure(figsize=(8,6))\n",
    "plt.scatter(WeatherPy_df[\"Lat\"], WeatherPy_df[\"Cloudiness\"], color='green', alpha=0.5)\n",
    "sns.set()\n",
    "plt.ylim(-20,(WeatherPy_df[\"Cloudiness\"].max()+10))\n",
    "plt.xlabel('Latitude')\n",
    "plt.ylabel('Cloudiness (%)')\n",
    "plt.title(f'City Latitude by Cloudiness ({datetime.now().date()})')\n",
    "plt.savefig(\"LatbyCloudiness.png\")\n",
    "plt.show()"
   ]
  },
  {
   "cell_type": "markdown",
   "metadata": {},
   "source": [
    "#### Latitude vs. Wind Speed Plot"
   ]
  },
  {
   "cell_type": "code",
   "execution_count": null,
   "metadata": {},
   "outputs": [],
   "source": [
    "plt.figure(figsize=(8,6))\n",
    "sns.set()\n",
    "plt.scatter(WeatherPy_df[\"Lat\"], WeatherPy_df[\"Wind Speed\"], color='red', alpha=0.5)\n",
    "\n",
    "plt.ylim((WeatherPy_df[\"Wind Speed\"].min()-5),(WeatherPy_df[\"Wind Speed\"].max()+5))\n",
    "plt.xlabel('Latitude')\n",
    "plt.ylabel('Wind Speed (mph)')\n",
    "plt.title(f'City Latitude by Wind Speed ({datetime.now().date()})')\n",
    "plt.savefig(\"LatbyWind.png\")\n",
    "plt.show()"
   ]
  },
  {
   "cell_type": "code",
   "execution_count": null,
   "metadata": {},
   "outputs": [],
   "source": []
  }
 ],
 "metadata": {
  "anaconda-cloud": {},
  "kernel_info": {
   "name": "python3"
  },
  "kernelspec": {
   "display_name": "Python 3",
   "language": "python",
   "name": "python3"
  },
  "language_info": {
   "codemirror_mode": {
    "name": "ipython",
    "version": 3
   },
   "file_extension": ".py",
   "mimetype": "text/x-python",
   "name": "python",
   "nbconvert_exporter": "python",
   "pygments_lexer": "ipython3",
   "version": "3.7.1"
  },
  "nteract": {
   "version": "0.12.3"
  }
 },
 "nbformat": 4,
 "nbformat_minor": 2
}
